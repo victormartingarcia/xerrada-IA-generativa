{
 "cells": [
  {
   "cell_type": "markdown",
   "id": "fde0310a",
   "metadata": {},
   "source": [
    "# Demo - Extendre ChatGPT amb LangChain"
   ]
  },
  {
   "cell_type": "code",
   "execution_count": 1,
   "id": "55bcad65",
   "metadata": {},
   "outputs": [],
   "source": [
    "import os\n",
    "\n",
    "from langchain.chat_models import ChatOpenAI\n",
    "from langchain.embeddings.openai import OpenAIEmbeddings\n",
    "from langchain.chains import VectorDBQA\n",
    "from langchain.chains.conversation.memory import ConversationBufferMemory\n",
    "from langchain.vectorstores import FAISS\n",
    "from langchain.agents import initialize_agent, Tool\n",
    "from langchain.text_splitter import CharacterTextSplitter\n",
    "from langchain import GoogleSearchAPIWrapper, PromptTemplate, LLMChain\n",
    "from langchain.document_loaders import TextLoader, WebBaseLoader\n",
    "\n",
    "from dotenv import load_dotenv\n",
    "\n",
    "load_dotenv();"
   ]
  },
  {
   "cell_type": "code",
   "execution_count": 2,
   "id": "d1a374e2",
   "metadata": {},
   "outputs": [],
   "source": [
    "# Global vars\n",
    "embeddings = OpenAIEmbeddings()\n",
    "text_splitter = CharacterTextSplitter(chunk_size=1000, chunk_overlap=0)"
   ]
  },
  {
   "cell_type": "markdown",
   "id": "06ea11bf",
   "metadata": {},
   "source": [
    "### Crear i emmagatzemar a disc els \"embeddings\"\n"
   ]
  },
  {
   "cell_type": "code",
   "execution_count": 3,
   "id": "e409ba0a",
   "metadata": {},
   "outputs": [],
   "source": [
    "URL_NOTICIA=\"https://www.diaridegirona.cat/girona/2023/03/06/vilablareix-comunitat-plaques-fotovoltaiques-84140595.html\"\n",
    "\n",
    "# docs = text_splitter.split_documents(WebBaseLoader(URL_NOTICIA).load())\n",
    "\n",
    "# noticia_vectordb = FAISS.from_documents(docs, embeddings)\n",
    "# noticia_vectordb.save_local(\"faiss_data/diaridegirona_website\")"
   ]
  },
  {
   "cell_type": "markdown",
   "id": "0d18c4a4",
   "metadata": {},
   "source": [
    "### Carregar de disc els \"embeddings\""
   ]
  },
  {
   "cell_type": "code",
   "execution_count": 4,
   "id": "46e19279",
   "metadata": {},
   "outputs": [],
   "source": [
    "noticia_vectordb = FAISS.load_local(\"faiss_data/diaridegirona_website\", embeddings)"
   ]
  },
  {
   "cell_type": "markdown",
   "id": "ab23a2c4",
   "metadata": {},
   "source": [
    "### ChatGPT prompt - Preguntes i respostes sobre l'article del Diari de Girona"
   ]
  },
  {
   "cell_type": "code",
   "execution_count": 5,
   "id": "eff03240",
   "metadata": {},
   "outputs": [],
   "source": [
    "noticia = VectorDBQA.from_chain_type(llm=ChatOpenAI(temperature=0.7), chain_type=\"stuff\", vectorstore=noticia_vectordb)"
   ]
  },
  {
   "cell_type": "code",
   "execution_count": 6,
   "id": "f2303891",
   "metadata": {},
   "outputs": [
    {
     "data": {
      "text/plain": [
       "'L’Ajuntament de Vilablareix impulsa la creació d’una comunitat local d’energia en el municipi instal·lant plaques solars fotovoltaiques a la coberta del pavelló municipal per subministrar energia elèctrica als edificis municipals i als veïns que vulguin formar part.'"
      ]
     },
     "execution_count": 6,
     "metadata": {},
     "output_type": "execute_result"
    }
   ],
   "source": [
    "noticia.run(\"Fes un resum de la notícia en una frase\")"
   ]
  },
  {
   "cell_type": "code",
   "execution_count": 7,
   "id": "64fb8acc",
   "metadata": {},
   "outputs": [
    {
     "data": {
      "text/plain": [
       "\"La regidora de medi ambient de l'ajuntament de Vilablareix es diu Imma Vilà.\""
      ]
     },
     "execution_count": 7,
     "metadata": {},
     "output_type": "execute_result"
    }
   ],
   "source": [
    "noticia.run(\"Com es diu la regidora de medi ambient de l'ajuntament de Vilablareix?\")"
   ]
  },
  {
   "cell_type": "code",
   "execution_count": 8,
   "id": "7598d499",
   "metadata": {},
   "outputs": [
    {
     "data": {
      "text/plain": [
       "'La inversió inicial per a la instal·lació de plaques solars a Vilablareix és de 48.878,05 euros per una instal·lació de 58,65 kWp i està subvencionada per la Diputació de Girona amb 36.000,00 euros.'"
      ]
     },
     "execution_count": 8,
     "metadata": {},
     "output_type": "execute_result"
    }
   ],
   "source": [
    "noticia.run(\"Quina és la inversió inicial per a la instal.lació de plaques solars a Vilablareix?\")"
   ]
  },
  {
   "cell_type": "markdown",
   "id": "7e75b71d",
   "metadata": {},
   "source": [
    "### Chat amb \"memòria\" i cerca a Google per complementar respostes"
   ]
  },
  {
   "cell_type": "code",
   "execution_count": 9,
   "id": "2ad2d9fb",
   "metadata": {},
   "outputs": [],
   "source": [
    "tools = [\n",
    "    Tool(\n",
    "        name = \"Google Search\",\n",
    "        func=GoogleSearchAPIWrapper().run,\n",
    "        description=\"Cerca a Google per complementar informació\"\n",
    "    ),\n",
    "]\n",
    "\n",
    "memory = ConversationBufferMemory(memory_key=\"chat_history\")\n",
    "\n",
    "agent_chain = initialize_agent(tools, ChatOpenAI(temperature=0.7), agent=\"conversational-react-description\", verbose=True, max_iterations=10, memory=memory)\n"
   ]
  },
  {
   "cell_type": "code",
   "execution_count": 11,
   "id": "c8436fbe",
   "metadata": {},
   "outputs": [
    {
     "name": "stdout",
     "output_type": "stream",
     "text": [
      "\n",
      "\n",
      "\u001b[1m> Entering new AgentExecutor chain...\u001b[0m\n",
      "\u001b[32;1m\u001b[1;3mThought: Do I need to use a tool? Yes\n",
      "Action: Google Search\n",
      "Action Input: Population of Vilablareix, Girona\u001b[0m\n",
      "Observation: \u001b[36;1m\u001b[1;3mVilablareix is a small village in the province of Girona and autonomous community of Catalonia, Spain. Vilablareix. Municipality. that the reported populations may be closely related to plants from the United States. ... The population from Vilablareix (Girona province). The population from Vilablareix (Girona province) grows in a grassland area, formely arable fields, which are grazed by sheeps in summer. Vilablareix (Girona, Cataluña, Spain) with population statistics, charts, map, location, weather and web information. Restaurant Mas Marroch, Vilablareix: See 103 unbiased reviews of Restaurant Mas ... Luckily Girona area is full of great restaurants where they welcome also ... The main objective of the ASTRID 21 FOUNDATION is to ensure that people with Down's syndrome or other intellectual disabilities can take part in society, ... La Temporada, Vilablareix: See 150 unbiased reviews of La Temporada, rated 3.5 of 5 on Tripadvisor and ranked #2 of 6 restaurants in Vilablareix. Population. Vilablareix, Girona, Catalunya, Spain, according to our data the population is — 2,194 residents, which is about 0% of ... Find company research, competitor information, contact details & financial data for MONTFRED VILABLAREIX SL of GIRONA. Get the latest business insights from ... Husa Fornells Park Hotel - Vilablareix ... Consell d'estudiants de la Universitat de Girona ... Only 1 chair for 2 people. United States of America, ...\u001b[0m\n",
      "Thought:\u001b[32;1m\u001b[1;3mDo I need to use a tool? Yes\n",
      "Action: Google Search\n",
      "Action Input: Population of Vilablareix, Girona, Spain\u001b[0m\n",
      "Observation: \u001b[36;1m\u001b[1;3mVilablareix is a small village in the province of Girona and autonomous community of Catalonia, Spain. Vilablareix. Municipality. Vilablareix, near the city of Girona (Catalonia, Spain) and in the valley of ... relationship of Spanish plants with the invasive American populations, some. Girona is a province of Spain, in the northeastern part of the autonomous community of ... The province has 222 municipalities, including Girona city (population ... The population from Vilablareix (Girona province) grows in a grassland area, ... Spanish populations are more related to plants collected in North America ... Vilablareix (Girona, Cataluña, Spain) with population statistics, charts, map, location, weather and web information. Population. Vilablareix, Girona, Catalunya, Spain, according to our data the population is — 2,194 residents, which is about 0% of ... Best Pubs in Carrer Jaume I, Vilablareix, Girona, Spain - Taberna Irlandesa Mckiernans, Lux, ... What are people saying about pubs near Vilablareix, GI? Restaurant Mas Marroch, Vilablareix: See 103 unbiased reviews of ... Pla del Marroc, 6, 17180 Vilablareix Spain +34 972 24 36 53 Website + Add hours. Husa Fornells Park Hotel - Vilablareix ... Only 1 chair for 2 people. ... 3-star Husa Fornells Park Vilablareix is Girona-Costa Brava airport (0.5 miles) ... Location and contact. C/ Montnegre, 62, 17180 Vilablareix Spain.\u001b[0m\n",
      "Thought:\u001b[32;1m\u001b[1;3mDo I need to use a tool? No\n",
      "AI: According to available data, the population of Vilablareix, Girona, Spain is approximately 2,194 residents.\u001b[0m\n",
      "\n",
      "\u001b[1m> Finished chain.\u001b[0m\n"
     ]
    },
    {
     "data": {
      "text/plain": [
       "'According to available data, the population of Vilablareix, Girona, Spain is approximately 2,194 residents.'"
      ]
     },
     "execution_count": 11,
     "metadata": {},
     "output_type": "execute_result"
    }
   ],
   "source": [
    "agent_chain.run(input=\"Quin es el número de habitants de Vilablareix, Girona? \")"
   ]
  },
  {
   "cell_type": "code",
   "execution_count": 12,
   "id": "1a2120aa",
   "metadata": {
    "scrolled": false
   },
   "outputs": [
    {
     "name": "stdout",
     "output_type": "stream",
     "text": [
      "\n",
      "\n",
      "\u001b[1m> Entering new AgentExecutor chain...\u001b[0m\n",
      "\u001b[32;1m\u001b[1;3mThought: Do I need to use a tool? No\n",
      "AI: Si assumim una ocupació de 2.5 habitants per llar, el número total de residents seria de 400. Això és perquè 160 llars x 2.5 habitants per llar = 400 habitants. Per tant, el percentatge de la població que representen aquests 160 llars seria del 18.29% (160/2,194 x 100).\u001b[0m\n",
      "\n",
      "\u001b[1m> Finished chain.\u001b[0m\n"
     ]
    },
    {
     "data": {
      "text/plain": [
       "'Si assumim una ocupació de 2.5 habitants per llar, el número total de residents seria de 400. Això és perquè 160 llars x 2.5 habitants per llar = 400 habitants. Per tant, el percentatge de la població que representen aquests 160 llars seria del 18.29% (160/2,194 x 100).'"
      ]
     },
     "execution_count": 12,
     "metadata": {},
     "output_type": "execute_result"
    }
   ],
   "source": [
    "agent_chain.run(input=\"Assumint una ocupació de 2.5 habitants per llar. Quin porcentatge de habitants implicaria 160 llars?. Contesta en català\")"
   ]
  },
  {
   "cell_type": "code",
   "execution_count": null,
   "id": "8d50fedc",
   "metadata": {},
   "outputs": [],
   "source": []
  }
 ],
 "metadata": {
  "kernelspec": {
   "display_name": "Python3 (xerrada-ia-generativa)",
   "language": "python",
   "name": "xerrada-ia-generativa"
  },
  "language_info": {
   "codemirror_mode": {
    "name": "ipython",
    "version": 3
   },
   "file_extension": ".py",
   "mimetype": "text/x-python",
   "name": "python",
   "nbconvert_exporter": "python",
   "pygments_lexer": "ipython3",
   "version": "3.10.9"
  }
 },
 "nbformat": 4,
 "nbformat_minor": 5
}
