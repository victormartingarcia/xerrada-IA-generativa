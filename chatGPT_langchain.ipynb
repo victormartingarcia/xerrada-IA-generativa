{
 "cells": [
  {
   "cell_type": "markdown",
   "id": "fde0310a",
   "metadata": {},
   "source": [
    "# Demo - Extendre ChatGPT amb LangChain"
   ]
  },
  {
   "cell_type": "code",
   "execution_count": 1,
   "id": "55bcad65",
   "metadata": {},
   "outputs": [],
   "source": [
    "import os\n",
    "\n",
    "from langchain.chat_models import ChatOpenAI\n",
    "from langchain.embeddings.openai import OpenAIEmbeddings\n",
    "from langchain.chains import VectorDBQA\n",
    "from langchain.chains.conversation.memory import ConversationBufferMemory\n",
    "from langchain.vectorstores import FAISS\n",
    "from langchain.agents import initialize_agent, Tool\n",
    "from langchain.text_splitter import CharacterTextSplitter\n",
    "from langchain import GoogleSearchAPIWrapper, PromptTemplate, LLMChain\n",
    "from langchain.document_loaders import TextLoader, WebBaseLoader\n",
    "\n",
    "from dotenv import load_dotenv\n",
    "\n",
    "load_dotenv();"
   ]
  },
  {
   "cell_type": "code",
   "execution_count": 2,
   "id": "d1a374e2",
   "metadata": {},
   "outputs": [],
   "source": [
    "# Global vars\n",
    "embeddings = OpenAIEmbeddings()\n",
    "text_splitter = CharacterTextSplitter(chunk_size=1000, chunk_overlap=0)"
   ]
  },
  {
   "cell_type": "markdown",
   "id": "06ea11bf",
   "metadata": {},
   "source": [
    "### Crear i emmagatzemar a disc els \"embeddings\"\n"
   ]
  },
  {
   "cell_type": "code",
   "execution_count": 3,
   "id": "e409ba0a",
   "metadata": {},
   "outputs": [],
   "source": [
    "URL_NOTICIA=\"https://www.diaridegirona.cat/girona/2023/03/06/vilablareix-comunitat-plaques-fotovoltaiques-84140595.html\"\n",
    "\n",
    "# docs = text_splitter.split_documents(WebBaseLoader(URL_NOTICIA).load())\n",
    "\n",
    "# noticia_vectordb = FAISS.from_documents(docs, embeddings)\n",
    "# noticia_vectordb.save_local(\"faiss_data/diaridegirona_website\")"
   ]
  },
  {
   "cell_type": "markdown",
   "id": "0d18c4a4",
   "metadata": {},
   "source": [
    "### Carregar de disc els \"embeddings\""
   ]
  },
  {
   "cell_type": "code",
   "execution_count": 4,
   "id": "46e19279",
   "metadata": {},
   "outputs": [],
   "source": [
    "noticia_vectordb = FAISS.load_local(\"faiss_data/diaridegirona_website\", embeddings)"
   ]
  },
  {
   "cell_type": "markdown",
   "id": "ab23a2c4",
   "metadata": {},
   "source": [
    "### ChatGPT prompt - Preguntes i respostes sobre l'article del Diari de Girona"
   ]
  },
  {
   "cell_type": "code",
   "execution_count": 5,
   "id": "eff03240",
   "metadata": {},
   "outputs": [],
   "source": [
    "noticia = VectorDBQA.from_chain_type(llm=ChatOpenAI(temperature=0.7), chain_type=\"stuff\", vectorstore=noticia_vectordb)"
   ]
  },
  {
   "cell_type": "code",
   "execution_count": 6,
   "id": "f2303891",
   "metadata": {},
   "outputs": [
    {
     "data": {
      "text/plain": [
       "\"L'Ajuntament de Vilablareix instal·larà plaques solars fotovoltaiques a la coberta del pavelló municipal per subministrar energia elèctrica als edificis municipals i als veïns que en vulguin formar part.\""
      ]
     },
     "execution_count": 6,
     "metadata": {},
     "output_type": "execute_result"
    }
   ],
   "source": [
    "noticia.run(\"Fes un resum de la notícia en una frase\")"
   ]
  },
  {
   "cell_type": "code",
   "execution_count": 7,
   "id": "64fb8acc",
   "metadata": {},
   "outputs": [
    {
     "data": {
      "text/plain": [
       "\"La regidora de medi ambient de l'ajuntament de Vilablareix es diu Imma Vilà. Ho podeu llegir a l'article: «Formaran part del projecte d’autoconsum compartit els equipaments municipals i llars de veïns i veïnes del poble. Es prioritzaran les llars més vulnerables» ha explicat la regidora de medi ambient, Imma Vilà.\""
      ]
     },
     "execution_count": 7,
     "metadata": {},
     "output_type": "execute_result"
    }
   ],
   "source": [
    "noticia.run(\"Com es diu la regidora de medi ambient de l'ajuntament de Vilablareix?\")"
   ]
  },
  {
   "cell_type": "code",
   "execution_count": 8,
   "id": "7598d499",
   "metadata": {},
   "outputs": [
    {
     "data": {
      "text/plain": [
       "'La inversió inicial per a la instal·lació de plaques fotovoltaiques a Vilablareix és de 48.878,05 euros per una instal·lació de 58,65 kWp, i està subvencionada per la Diputació de Girona amb 36.000,00 euros.'"
      ]
     },
     "execution_count": 8,
     "metadata": {},
     "output_type": "execute_result"
    }
   ],
   "source": [
    "noticia.run(\"Quina és la inversió inicial per a la instal.lació de plaques solars a Vilablareix?\")"
   ]
  },
  {
   "cell_type": "markdown",
   "id": "7e75b71d",
   "metadata": {},
   "source": [
    "### Chat amb \"memòria\" i cerca a Google per complementar respostes"
   ]
  },
  {
   "cell_type": "code",
   "execution_count": 45,
   "id": "2ad2d9fb",
   "metadata": {},
   "outputs": [],
   "source": [
    "tools = [\n",
    "    Tool(\n",
    "        name = \"Google Search\",\n",
    "        func=GoogleSearchAPIWrapper().run,\n",
    "        description=\"Cerca a Google per complementar informació\"\n",
    "    ),\n",
    "]\n",
    "\n",
    "memory = ConversationBufferMemory(memory_key=\"chat_history\")\n",
    "\n",
    "agent_chain = initialize_agent(tools, ChatOpenAI(temperature=0.7), agent=\"conversational-react-description\", verbose=True, max_iterations=10, memory=memory)\n"
   ]
  },
  {
   "cell_type": "code",
   "execution_count": 46,
   "id": "c8436fbe",
   "metadata": {},
   "outputs": [
    {
     "name": "stdout",
     "output_type": "stream",
     "text": [
      "\n",
      "\n",
      "\u001b[1m> Entering new AgentExecutor chain...\u001b[0m\n",
      "\u001b[32;1m\u001b[1;3mThought: Do I need to use a tool? Yes\n",
      "Action: Google Search\n",
      "Action Input: Number of inhabitants in Vilablareix, Girona\u001b[0m\n",
      "Observation: \u001b[36;1m\u001b[1;3mVilablareix is a small village in the province of Girona and autonomous community of Catalonia, Spain. Vilablareix. Municipality. Restaurant Mas Marroch, Vilablareix: See 103 unbiased reviews of Restaurant Mas Marroch, rated 4.5 of 5 on Tripadvisor and ranked #1 of 6 restaurants in ... 44 listings of houses and flats for sale in Vilablareix, Spain, from 205000 euros. Houses and flats for sale in Vilablareix from private owners and real ... This review is the subjective opinion of a Tripadvisor member and not of Tripadvisor LLC. Tripadvisor performs checks on reviews. The site will have a health park for the residents of Vilablareix and the surrounding area, who will also be able to get there by bicycle thanks to the ... König has been collaborating for many years with the Astrid Foundation through the employment integration of people with intellectual disabilities. König was ... *Contacts and Principals counts are estimates and may differ from the actual number of contacts available in D&B Hoovers. If MONTFRED VILABLAREIX SL is your ... Vilablareix is a municipality of approximately 3000 inhabitants located southwest of the Giron's region in the province of Girona, Catalonia, Spain. Vilablareix (Girona, Cataluña, Spain) with population statistics, charts, map, location, weather and web information. Husa Fornells Park Hotel - Vilablareix ... Consell d'estudiants de la Universitat de Girona ... Only 1 chair for 2 people. United States of America, ...\u001b[0m\n",
      "Thought:\u001b[32;1m\u001b[1;3mDo I need to use a tool? Yes\n",
      "Action: Google Search\n",
      "Action Input: Population of Vilablareix, Girona\u001b[0m\n",
      "Observation: \u001b[36;1m\u001b[1;3mVilablareix is a small village in the province of Girona and autonomous community of Catalonia, Spain. Vilablareix. Municipality. that the reported populations may be closely related to plants from the United States. ... The population from Vilablareix (Girona province). The population of the province in 2016 was 739,607. Its capital and largest city is Girona, with an urban area (including the neighbouring municipalities of ... Vilablareix (Girona, Cataluña, Spain) with population statistics, charts, map, location, weather and web information. Restaurant Mas Marroch, Vilablareix: See 103 unbiased reviews of Restaurant Mas ... Luckily Girona area is full of great restaurants where they welcome also ... Population. Vilablareix, Girona, Catalunya, Spain, according to our data the population is — 2,194 residents, which is about 0% of ... La Temporada, Vilablareix: See 150 unbiased reviews of La Temporada, rated 3.5 of 5 on Tripadvisor and ranked #2 of 6 restaurants in Vilablareix. The main objective of the ASTRID 21 FOUNDATION is to ensure that people with Down's syndrome or other intellectual disabilities can take part in society, ... Find company research, competitor information, contact details & financial data for MONTFRED VILABLAREIX SL of GIRONA. Get the latest business insights from ... Mas Marroch Vilablareix, Celler Can Roca , Gran Dome. Oriol Roselló, Mónica Alcindor, Carla Graboleda, Roberto Chacón Architectes Girona / Spain / 2016 ...\u001b[0m\n",
      "Thought:\u001b[32;1m\u001b[1;3mDo I need to use a tool? No \n",
      "AI: According to available data, the population of Vilablareix, Girona is around 2,194 residents, which is about 0% of the population of the province.\u001b[0m\n",
      "\n",
      "\u001b[1m> Finished chain.\u001b[0m\n"
     ]
    },
    {
     "data": {
      "text/plain": [
       "'According to available data, the population of Vilablareix, Girona is around 2,194 residents, which is about 0% of the population of the province.'"
      ]
     },
     "execution_count": 46,
     "metadata": {},
     "output_type": "execute_result"
    }
   ],
   "source": [
    "agent_chain.run(input=\"Quin es el número de habitants de Vilablareix, Girona?\")"
   ]
  },
  {
   "cell_type": "code",
   "execution_count": 47,
   "id": "1a2120aa",
   "metadata": {
    "scrolled": false
   },
   "outputs": [
    {
     "name": "stdout",
     "output_type": "stream",
     "text": [
      "\n",
      "\n",
      "\u001b[1m> Entering new AgentExecutor chain...\u001b[0m\n",
      "\u001b[32;1m\u001b[1;3mThought: Do I need to use a tool? No\n",
      "AI: Assuming an occupancy of 2.5 residents per household, 160 households would house approximately 400 residents. To find the percentage of the total population this represents, we would need to know the total population of the area in question.\u001b[0m\n",
      "\n",
      "\u001b[1m> Finished chain.\u001b[0m\n"
     ]
    },
    {
     "data": {
      "text/plain": [
       "'Assuming an occupancy of 2.5 residents per household, 160 households would house approximately 400 residents. To find the percentage of the total population this represents, we would need to know the total population of the area in question.'"
      ]
     },
     "execution_count": 47,
     "metadata": {},
     "output_type": "execute_result"
    }
   ],
   "source": [
    "agent_chain.run(input=\"Assumint una ocupació de 2.5 habitants per llar. Quin porcentatge de habitants implicaria 160 llars?\")"
   ]
  },
  {
   "cell_type": "code",
   "execution_count": 48,
   "id": "a4fe3a92",
   "metadata": {},
   "outputs": [
    {
     "name": "stdout",
     "output_type": "stream",
     "text": [
      "\n",
      "\n",
      "\u001b[1m> Entering new AgentExecutor chain...\u001b[0m\n",
      "\u001b[32;1m\u001b[1;3mThought: Do I need to use a tool? No\n",
      "AI: Based on the population of Vilablareix, Girona being around 2,194 residents, 160 households with an assumed occupancy of 2.5 residents per household would house approximately 400 residents. This represents around 18.2% of the total population of Vilablareix, Girona.\u001b[0m\n",
      "\n",
      "\u001b[1m> Finished chain.\u001b[0m\n"
     ]
    },
    {
     "data": {
      "text/plain": [
       "'Based on the population of Vilablareix, Girona being around 2,194 residents, 160 households with an assumed occupancy of 2.5 residents per household would house approximately 400 residents. This represents around 18.2% of the total population of Vilablareix, Girona.'"
      ]
     },
     "execution_count": 48,
     "metadata": {},
     "output_type": "execute_result"
    }
   ],
   "source": [
    "agent_chain.run(input=\"Fes el càlcul amb la població total de Vilablareix, Girona\")"
   ]
  },
  {
   "cell_type": "code",
   "execution_count": null,
   "id": "8d50fedc",
   "metadata": {},
   "outputs": [],
   "source": []
  }
 ],
 "metadata": {
  "kernelspec": {
   "display_name": "Python3 (xerrada-ia-generativa)",
   "language": "python",
   "name": "xerrada-ia-generativa"
  },
  "language_info": {
   "codemirror_mode": {
    "name": "ipython",
    "version": 3
   },
   "file_extension": ".py",
   "mimetype": "text/x-python",
   "name": "python",
   "nbconvert_exporter": "python",
   "pygments_lexer": "ipython3",
   "version": "3.10.9"
  }
 },
 "nbformat": 4,
 "nbformat_minor": 5
}
